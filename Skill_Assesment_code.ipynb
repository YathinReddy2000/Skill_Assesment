{
 "cells": [
  {
   "cell_type": "markdown",
   "metadata": {},
   "source": [
    "**Do the codeing here**"
   ]
  },
  {
   "cell_type": "markdown",
   "metadata": {},
   "source": [
    "So i will be creating the sections so you can add code  and you can perform the visualization"
   ]
  },
  {
   "cell_type": "code",
   "execution_count": 1,
   "metadata": {},
   "outputs": [],
   "source": [
    "#Alex---u can keep on adding the code bock if required"
   ]
  },
  {
   "cell_type": "code",
   "execution_count": null,
   "metadata": {},
   "outputs": [],
   "source": []
  },
  {
   "cell_type": "code",
   "execution_count": null,
   "metadata": {},
   "outputs": [],
   "source": []
  },
  {
   "cell_type": "code",
   "execution_count": null,
   "metadata": {},
   "outputs": [],
   "source": []
  },
  {
   "cell_type": "code",
   "execution_count": 2,
   "metadata": {},
   "outputs": [],
   "source": [
    "#Liu"
   ]
  },
  {
   "cell_type": "code",
   "execution_count": null,
   "metadata": {},
   "outputs": [],
   "source": []
  },
  {
   "cell_type": "code",
   "execution_count": null,
   "metadata": {},
   "outputs": [],
   "source": []
  },
  {
   "cell_type": "code",
   "execution_count": null,
   "metadata": {},
   "outputs": [],
   "source": []
  },
  {
   "cell_type": "code",
   "execution_count": 3,
   "metadata": {},
   "outputs": [],
   "source": [
    "#Kp"
   ]
  },
  {
   "cell_type": "code",
   "execution_count": 4,
   "metadata": {},
   "outputs": [
    {
     "data": {
      "text/html": [
       "<div>\n",
       "<style scoped>\n",
       "    .dataframe tbody tr th:only-of-type {\n",
       "        vertical-align: middle;\n",
       "    }\n",
       "\n",
       "    .dataframe tbody tr th {\n",
       "        vertical-align: top;\n",
       "    }\n",
       "\n",
       "    .dataframe thead th {\n",
       "        text-align: right;\n",
       "    }\n",
       "</style>\n",
       "<table border=\"1\" class=\"dataframe\">\n",
       "  <thead>\n",
       "    <tr style=\"text-align: right;\">\n",
       "      <th></th>\n",
       "      <th>PMID</th>\n",
       "      <th>Title</th>\n",
       "      <th>Abstract</th>\n",
       "      <th>ISSN</th>\n",
       "      <th>Journal</th>\n",
       "      <th>Location</th>\n",
       "      <th>Year</th>\n",
       "      <th>FirstAuthorForename</th>\n",
       "      <th>FirstAuthorLastname</th>\n",
       "      <th>FirstAuthorInitials</th>\n",
       "      <th>FirstAuthorAffiliation</th>\n",
       "    </tr>\n",
       "  </thead>\n",
       "  <tbody>\n",
       "    <tr>\n",
       "      <th>0</th>\n",
       "      <td>10543349</td>\n",
       "      <td>HAV and HEV infection in hospitalised hepatiti...</td>\n",
       "      <td>A total of 202 serum and stool samples from ac...</td>\n",
       "      <td>0393-2990</td>\n",
       "      <td>European journal of epidemiology</td>\n",
       "      <td>(15) 603-9</td>\n",
       "      <td>1999</td>\n",
       "      <td>M</td>\n",
       "      <td>Divizia</td>\n",
       "      <td>M</td>\n",
       "      <td>Department of Public Health, University of Tor...</td>\n",
       "    </tr>\n",
       "    <tr>\n",
       "      <th>1</th>\n",
       "      <td>10548300</td>\n",
       "      <td>Relationship between circulating antigen level...</td>\n",
       "      <td>Ninety-eight Schistosoma mansoni-infected chil...</td>\n",
       "      <td>0002-9637</td>\n",
       "      <td>The American journal of tropical medicine and ...</td>\n",
       "      <td>(61) 635-8</td>\n",
       "      <td>1999</td>\n",
       "      <td>M M</td>\n",
       "      <td>Hassan</td>\n",
       "      <td>MM</td>\n",
       "      <td>Department of Parasitology, Faculty of Medicin...</td>\n",
       "    </tr>\n",
       "    <tr>\n",
       "      <th>2</th>\n",
       "      <td>10556825</td>\n",
       "      <td>Schistosoma mansoni schistosomula reduce E-sel...</td>\n",
       "      <td>The recruitment of immune cells into the lungs...</td>\n",
       "      <td>0014-2980</td>\n",
       "      <td>European journal of immunology</td>\n",
       "      <td>(29) 3691-701</td>\n",
       "      <td>1999</td>\n",
       "      <td>F</td>\n",
       "      <td>Trottein</td>\n",
       "      <td>F</td>\n",
       "      <td>Centre d'Immunologie et de Biologie, Parasitai...</td>\n",
       "    </tr>\n",
       "    <tr>\n",
       "      <th>3</th>\n",
       "      <td>10557147</td>\n",
       "      <td>The baboon as a non-human primate model of hum...</td>\n",
       "      <td>Over the past three decades, intensive studies...</td>\n",
       "      <td>0169-4758</td>\n",
       "      <td>Parasitology today (Personal ed.)</td>\n",
       "      <td>(15) 478-82</td>\n",
       "      <td>1999</td>\n",
       "      <td>M</td>\n",
       "      <td>Nyindo</td>\n",
       "      <td>M</td>\n",
       "      <td>Kilimanjaro Christian Medical College (KCMC), ...</td>\n",
       "    </tr>\n",
       "    <tr>\n",
       "      <th>4</th>\n",
       "      <td>10559846</td>\n",
       "      <td>Antigenic stimulation is more efficient than L...</td>\n",
       "      <td>Nitric oxide (NO) is an extremely important an...</td>\n",
       "      <td>0100-879X</td>\n",
       "      <td>Brazilian journal of medical and biological re...</td>\n",
       "      <td>(32) 1437-45</td>\n",
       "      <td>1999</td>\n",
       "      <td>D M</td>\n",
       "      <td>Oliveira</td>\n",
       "      <td>DM</td>\n",
       "      <td>Departamento de Bioquímica e Imunologia, Insti...</td>\n",
       "    </tr>\n",
       "    <tr>\n",
       "      <th>...</th>\n",
       "      <td>...</td>\n",
       "      <td>...</td>\n",
       "      <td>...</td>\n",
       "      <td>...</td>\n",
       "      <td>...</td>\n",
       "      <td>...</td>\n",
       "      <td>...</td>\n",
       "      <td>...</td>\n",
       "      <td>...</td>\n",
       "      <td>...</td>\n",
       "      <td>...</td>\n",
       "    </tr>\n",
       "    <tr>\n",
       "      <th>9299</th>\n",
       "      <td>38076323</td>\n",
       "      <td>Risk mapping and socio-ecological drivers of s...</td>\n",
       "      <td>The Philippines reports a high prevalence of s...</td>\n",
       "      <td>2666-6065</td>\n",
       "      <td>The Lancet regional health. Western Pacific</td>\n",
       "      <td>(43) 100974</td>\n",
       "      <td>2024</td>\n",
       "      <td>Tsheten</td>\n",
       "      <td>Tsheten</td>\n",
       "      <td>T</td>\n",
       "      <td>National Centre for Epidemiology and Populatio...</td>\n",
       "    </tr>\n",
       "    <tr>\n",
       "      <th>9300</th>\n",
       "      <td>38084940</td>\n",
       "      <td>Genetic difference between two Schistosoma jap...</td>\n",
       "      <td>Schistosoma japonicum is one of the major infe...</td>\n",
       "      <td>1776-1042</td>\n",
       "      <td>Parasite (Paris, France)</td>\n",
       "      <td>(30) 59</td>\n",
       "      <td>2023</td>\n",
       "      <td>Hui-Ying</td>\n",
       "      <td>Sun</td>\n",
       "      <td>HY</td>\n",
       "      <td>Department of Epidemiology and Statistics, Sch...</td>\n",
       "    </tr>\n",
       "    <tr>\n",
       "      <th>9301</th>\n",
       "      <td>38086267</td>\n",
       "      <td>Matrix metalloproteinases inhibition reveals t...</td>\n",
       "      <td>Schistosomiasis mansoni is a parasitic infecti...</td>\n",
       "      <td>1878-1705</td>\n",
       "      <td>International immunopharmacology</td>\n",
       "      <td>(127) 111353</td>\n",
       "      <td>2023</td>\n",
       "      <td>Thiago D</td>\n",
       "      <td>Silva</td>\n",
       "      <td>TD</td>\n",
       "      <td>Programa de Pós-Graduação em Biociências Aplic...</td>\n",
       "    </tr>\n",
       "    <tr>\n",
       "      <th>9302</th>\n",
       "      <td>38093363</td>\n",
       "      <td>Exploring the immune interactions between Onco...</td>\n",
       "      <td>Schistosomiasis, the second largest parasitic ...</td>\n",
       "      <td>1756-3305</td>\n",
       "      <td>Parasites &amp; vectors</td>\n",
       "      <td>(16) 453</td>\n",
       "      <td>2023</td>\n",
       "      <td>Hongyu</td>\n",
       "      <td>Li</td>\n",
       "      <td>H</td>\n",
       "      <td>Shulan International Medical College, Zhejiang...</td>\n",
       "    </tr>\n",
       "    <tr>\n",
       "      <th>9303</th>\n",
       "      <td>38095735</td>\n",
       "      <td>Predicting the potential nationwide distributi...</td>\n",
       "      <td>Schistosomiasis remains a major public health ...</td>\n",
       "      <td>1432-1955</td>\n",
       "      <td>Parasitology research</td>\n",
       "      <td>(123) 41</td>\n",
       "      <td>2023</td>\n",
       "      <td>Loida M</td>\n",
       "      <td>Recopuerto-Medina</td>\n",
       "      <td>LM</td>\n",
       "      <td>Department of Biological Sciences, College of ...</td>\n",
       "    </tr>\n",
       "  </tbody>\n",
       "</table>\n",
       "<p>9304 rows × 11 columns</p>\n",
       "</div>"
      ],
      "text/plain": [
       "          PMID                                              Title  \\\n",
       "0     10543349  HAV and HEV infection in hospitalised hepatiti...   \n",
       "1     10548300  Relationship between circulating antigen level...   \n",
       "2     10556825  Schistosoma mansoni schistosomula reduce E-sel...   \n",
       "3     10557147  The baboon as a non-human primate model of hum...   \n",
       "4     10559846  Antigenic stimulation is more efficient than L...   \n",
       "...        ...                                                ...   \n",
       "9299  38076323  Risk mapping and socio-ecological drivers of s...   \n",
       "9300  38084940  Genetic difference between two Schistosoma jap...   \n",
       "9301  38086267  Matrix metalloproteinases inhibition reveals t...   \n",
       "9302  38093363  Exploring the immune interactions between Onco...   \n",
       "9303  38095735  Predicting the potential nationwide distributi...   \n",
       "\n",
       "                                               Abstract       ISSN  \\\n",
       "0     A total of 202 serum and stool samples from ac...  0393-2990   \n",
       "1     Ninety-eight Schistosoma mansoni-infected chil...  0002-9637   \n",
       "2     The recruitment of immune cells into the lungs...  0014-2980   \n",
       "3     Over the past three decades, intensive studies...  0169-4758   \n",
       "4     Nitric oxide (NO) is an extremely important an...  0100-879X   \n",
       "...                                                 ...        ...   \n",
       "9299  The Philippines reports a high prevalence of s...  2666-6065   \n",
       "9300  Schistosoma japonicum is one of the major infe...  1776-1042   \n",
       "9301  Schistosomiasis mansoni is a parasitic infecti...  1878-1705   \n",
       "9302  Schistosomiasis, the second largest parasitic ...  1756-3305   \n",
       "9303  Schistosomiasis remains a major public health ...  1432-1955   \n",
       "\n",
       "                                                Journal       Location  Year  \\\n",
       "0                      European journal of epidemiology     (15) 603-9  1999   \n",
       "1     The American journal of tropical medicine and ...     (61) 635-8  1999   \n",
       "2                        European journal of immunology  (29) 3691-701  1999   \n",
       "3                     Parasitology today (Personal ed.)    (15) 478-82  1999   \n",
       "4     Brazilian journal of medical and biological re...   (32) 1437-45  1999   \n",
       "...                                                 ...            ...   ...   \n",
       "9299        The Lancet regional health. Western Pacific    (43) 100974  2024   \n",
       "9300                           Parasite (Paris, France)        (30) 59  2023   \n",
       "9301                   International immunopharmacology   (127) 111353  2023   \n",
       "9302                                Parasites & vectors       (16) 453  2023   \n",
       "9303                              Parasitology research       (123) 41  2023   \n",
       "\n",
       "     FirstAuthorForename FirstAuthorLastname FirstAuthorInitials  \\\n",
       "0                      M             Divizia                   M   \n",
       "1                    M M              Hassan                  MM   \n",
       "2                      F            Trottein                   F   \n",
       "3                      M              Nyindo                   M   \n",
       "4                    D M            Oliveira                  DM   \n",
       "...                  ...                 ...                 ...   \n",
       "9299             Tsheten             Tsheten                   T   \n",
       "9300            Hui-Ying                 Sun                  HY   \n",
       "9301            Thiago D               Silva                  TD   \n",
       "9302              Hongyu                  Li                   H   \n",
       "9303             Loida M   Recopuerto-Medina                  LM   \n",
       "\n",
       "                                 FirstAuthorAffiliation  \n",
       "0     Department of Public Health, University of Tor...  \n",
       "1     Department of Parasitology, Faculty of Medicin...  \n",
       "2     Centre d'Immunologie et de Biologie, Parasitai...  \n",
       "3     Kilimanjaro Christian Medical College (KCMC), ...  \n",
       "4     Departamento de Bioquímica e Imunologia, Insti...  \n",
       "...                                                 ...  \n",
       "9299  National Centre for Epidemiology and Populatio...  \n",
       "9300  Department of Epidemiology and Statistics, Sch...  \n",
       "9301  Programa de Pós-Graduação em Biociências Aplic...  \n",
       "9302  Shulan International Medical College, Zhejiang...  \n",
       "9303  Department of Biological Sciences, College of ...  \n",
       "\n",
       "[9304 rows x 11 columns]"
      ]
     },
     "execution_count": 4,
     "metadata": {},
     "output_type": "execute_result"
    }
   ],
   "source": [
    "import pandas as pd\n",
    "import numpy as np\n",
    "\n",
    "Data = pd.read_csv('/Users/kp/Downloads/Group 6/articles.schistosomiasis.csv')\n",
    "Data"
   ]
  },
  {
   "cell_type": "code",
   "execution_count": 5,
   "metadata": {},
   "outputs": [
    {
     "data": {
      "text/html": [
       "<div>\n",
       "<style scoped>\n",
       "    .dataframe tbody tr th:only-of-type {\n",
       "        vertical-align: middle;\n",
       "    }\n",
       "\n",
       "    .dataframe tbody tr th {\n",
       "        vertical-align: top;\n",
       "    }\n",
       "\n",
       "    .dataframe thead th {\n",
       "        text-align: right;\n",
       "    }\n",
       "</style>\n",
       "<table border=\"1\" class=\"dataframe\">\n",
       "  <thead>\n",
       "    <tr style=\"text-align: right;\">\n",
       "      <th></th>\n",
       "      <th>PMID</th>\n",
       "      <th>Title</th>\n",
       "      <th>Abstract</th>\n",
       "      <th>ISSN</th>\n",
       "      <th>Journal</th>\n",
       "      <th>Location</th>\n",
       "      <th>Year</th>\n",
       "      <th>FirstAuthorForename</th>\n",
       "      <th>FirstAuthorLastname</th>\n",
       "      <th>FirstAuthorInitials</th>\n",
       "      <th>FirstAuthorAffiliation</th>\n",
       "    </tr>\n",
       "  </thead>\n",
       "  <tbody>\n",
       "    <tr>\n",
       "      <th>37</th>\n",
       "      <td>10675174</td>\n",
       "      <td>Community-based study of genital schistosomias...</td>\n",
       "      <td>Detection of Schistosoma haematoblum eggs in 4...</td>\n",
       "      <td>0140-6736</td>\n",
       "      <td>Lancet (London, England)</td>\n",
       "      <td>(355) 117-8</td>\n",
       "      <td>2000</td>\n",
       "      <td>P</td>\n",
       "      <td>Leutscher</td>\n",
       "      <td>P</td>\n",
       "      <td>NaN</td>\n",
       "    </tr>\n",
       "    <tr>\n",
       "      <th>74</th>\n",
       "      <td>10771201</td>\n",
       "      <td>Molluscicidal activity of some Saudi Arabian e...</td>\n",
       "      <td>The comparative susceptibility of the snail ve...</td>\n",
       "      <td>0378-8741</td>\n",
       "      <td>Journal of ethnopharmacology</td>\n",
       "      <td>(70) 119-25</td>\n",
       "      <td>2000</td>\n",
       "      <td>N A</td>\n",
       "      <td>Al-Zanbagi</td>\n",
       "      <td>NaN</td>\n",
       "      <td>Department of Biology, King Abdul-Aziz Univers...</td>\n",
       "    </tr>\n",
       "    <tr>\n",
       "      <th>89</th>\n",
       "      <td>10796476</td>\n",
       "      <td>Interventions for treating schistosomiasis hae...</td>\n",
       "      <td>Schistosomiasis is a parasite that is carried ...</td>\n",
       "      <td>1469-493X</td>\n",
       "      <td>The Cochrane database of systematic reviews</td>\n",
       "      <td>NaN</td>\n",
       "      <td>2000</td>\n",
       "      <td>N</td>\n",
       "      <td>Squires</td>\n",
       "      <td>N</td>\n",
       "      <td>Department for International Development, 94 V...</td>\n",
       "    </tr>\n",
       "    <tr>\n",
       "      <th>90</th>\n",
       "      <td>10796552</td>\n",
       "      <td>Interventions for treating schistosomiasis man...</td>\n",
       "      <td>Schistosomiasis is a parasite that is carried ...</td>\n",
       "      <td>1469-493X</td>\n",
       "      <td>The Cochrane database of systematic reviews</td>\n",
       "      <td>NaN</td>\n",
       "      <td>2000</td>\n",
       "      <td>H</td>\n",
       "      <td>Saconato</td>\n",
       "      <td>H</td>\n",
       "      <td>Clinical Medicine, Universidade Federal do Rio...</td>\n",
       "    </tr>\n",
       "    <tr>\n",
       "      <th>113</th>\n",
       "      <td>10837036</td>\n",
       "      <td>Young people's health in developing countries:...</td>\n",
       "      <td>Although the number of young people in develop...</td>\n",
       "      <td>0268-1080</td>\n",
       "      <td>Health policy and planning</td>\n",
       "      <td>(15) 137-44</td>\n",
       "      <td>2000</td>\n",
       "      <td>E A</td>\n",
       "      <td>Goodburn</td>\n",
       "      <td>EA</td>\n",
       "      <td>NaN</td>\n",
       "    </tr>\n",
       "    <tr>\n",
       "      <th>...</th>\n",
       "      <td>...</td>\n",
       "      <td>...</td>\n",
       "      <td>...</td>\n",
       "      <td>...</td>\n",
       "      <td>...</td>\n",
       "      <td>...</td>\n",
       "      <td>...</td>\n",
       "      <td>...</td>\n",
       "      <td>...</td>\n",
       "      <td>...</td>\n",
       "      <td>...</td>\n",
       "    </tr>\n",
       "    <tr>\n",
       "      <th>8533</th>\n",
       "      <td>35333859</td>\n",
       "      <td>National mapping of schistosomiasis, soil-tran...</td>\n",
       "      <td>Schistosomiasis (SCH) and soil-transmitted hel...</td>\n",
       "      <td>1935-2735</td>\n",
       "      <td>PLoS neglected tropical diseases</td>\n",
       "      <td>(16) e0010092</td>\n",
       "      <td>2022</td>\n",
       "      <td>Nur Alia</td>\n",
       "      <td>Johari</td>\n",
       "      <td>NaN</td>\n",
       "      <td>Schistosomiasis Control Initiative Foundation,...</td>\n",
       "    </tr>\n",
       "    <tr>\n",
       "      <th>8783</th>\n",
       "      <td>36229862</td>\n",
       "      <td>Molecular insights into the heat shock protein...</td>\n",
       "      <td>Heat shock proteins (HSPs) are evolutionarily ...</td>\n",
       "      <td>1756-3305</td>\n",
       "      <td>Parasites &amp; vectors</td>\n",
       "      <td>(15) 365</td>\n",
       "      <td>2022</td>\n",
       "      <td>Nancy A</td>\n",
       "      <td>Aguoru</td>\n",
       "      <td>NaN</td>\n",
       "      <td>Molecular Parasitology Laboratory, School of L...</td>\n",
       "    </tr>\n",
       "    <tr>\n",
       "      <th>8924</th>\n",
       "      <td>36701277</td>\n",
       "      <td>Correction: \"We know about schistosomiasis but...</td>\n",
       "      <td>[This corrects the article DOI: 10.1371/journa...</td>\n",
       "      <td>1935-2735</td>\n",
       "      <td>PLoS neglected tropical diseases</td>\n",
       "      <td>(17) e0011099</td>\n",
       "      <td>2023</td>\n",
       "      <td>Humphrey D</td>\n",
       "      <td>Mazigo</td>\n",
       "      <td>HD</td>\n",
       "      <td>NaN</td>\n",
       "    </tr>\n",
       "    <tr>\n",
       "      <th>9076</th>\n",
       "      <td>37253026</td>\n",
       "      <td>The prevalence of urogenital and intestinal sc...</td>\n",
       "      <td>This study sought to investigate prevalence of...</td>\n",
       "      <td>1932-6203</td>\n",
       "      <td>PloS one</td>\n",
       "      <td>(18) e0285977</td>\n",
       "      <td>2023</td>\n",
       "      <td>Nthabiseng A</td>\n",
       "      <td>Phaladze</td>\n",
       "      <td>NaN</td>\n",
       "      <td>School of Nursing, University of Botswana, Gab...</td>\n",
       "    </tr>\n",
       "    <tr>\n",
       "      <th>9171</th>\n",
       "      <td>37590252</td>\n",
       "      <td>Systematic review with meta-analysis: Prevalen...</td>\n",
       "      <td>Schistosomiasis is a parasitic infection that ...</td>\n",
       "      <td>1932-6203</td>\n",
       "      <td>PloS one</td>\n",
       "      <td>(18) e0285533</td>\n",
       "      <td>2023</td>\n",
       "      <td>Noor Azreen</td>\n",
       "      <td>Masdor</td>\n",
       "      <td>NaN</td>\n",
       "      <td>Faculty of Medicine, Department of Public Heal...</td>\n",
       "    </tr>\n",
       "  </tbody>\n",
       "</table>\n",
       "<p>621 rows × 11 columns</p>\n",
       "</div>"
      ],
      "text/plain": [
       "          PMID                                              Title  \\\n",
       "37    10675174  Community-based study of genital schistosomias...   \n",
       "74    10771201  Molluscicidal activity of some Saudi Arabian e...   \n",
       "89    10796476  Interventions for treating schistosomiasis hae...   \n",
       "90    10796552  Interventions for treating schistosomiasis man...   \n",
       "113   10837036  Young people's health in developing countries:...   \n",
       "...        ...                                                ...   \n",
       "8533  35333859  National mapping of schistosomiasis, soil-tran...   \n",
       "8783  36229862  Molecular insights into the heat shock protein...   \n",
       "8924  36701277  Correction: \"We know about schistosomiasis but...   \n",
       "9076  37253026  The prevalence of urogenital and intestinal sc...   \n",
       "9171  37590252  Systematic review with meta-analysis: Prevalen...   \n",
       "\n",
       "                                               Abstract       ISSN  \\\n",
       "37    Detection of Schistosoma haematoblum eggs in 4...  0140-6736   \n",
       "74    The comparative susceptibility of the snail ve...  0378-8741   \n",
       "89    Schistosomiasis is a parasite that is carried ...  1469-493X   \n",
       "90    Schistosomiasis is a parasite that is carried ...  1469-493X   \n",
       "113   Although the number of young people in develop...  0268-1080   \n",
       "...                                                 ...        ...   \n",
       "8533  Schistosomiasis (SCH) and soil-transmitted hel...  1935-2735   \n",
       "8783  Heat shock proteins (HSPs) are evolutionarily ...  1756-3305   \n",
       "8924  [This corrects the article DOI: 10.1371/journa...  1935-2735   \n",
       "9076  This study sought to investigate prevalence of...  1932-6203   \n",
       "9171  Schistosomiasis is a parasitic infection that ...  1932-6203   \n",
       "\n",
       "                                          Journal       Location  Year  \\\n",
       "37                       Lancet (London, England)    (355) 117-8  2000   \n",
       "74                   Journal of ethnopharmacology    (70) 119-25  2000   \n",
       "89    The Cochrane database of systematic reviews            NaN  2000   \n",
       "90    The Cochrane database of systematic reviews            NaN  2000   \n",
       "113                    Health policy and planning    (15) 137-44  2000   \n",
       "...                                           ...            ...   ...   \n",
       "8533             PLoS neglected tropical diseases  (16) e0010092  2022   \n",
       "8783                          Parasites & vectors       (15) 365  2022   \n",
       "8924             PLoS neglected tropical diseases  (17) e0011099  2023   \n",
       "9076                                     PloS one  (18) e0285977  2023   \n",
       "9171                                     PloS one  (18) e0285533  2023   \n",
       "\n",
       "     FirstAuthorForename FirstAuthorLastname FirstAuthorInitials  \\\n",
       "37                     P           Leutscher                   P   \n",
       "74                   N A          Al-Zanbagi                 NaN   \n",
       "89                     N             Squires                   N   \n",
       "90                     H            Saconato                   H   \n",
       "113                  E A            Goodburn                  EA   \n",
       "...                  ...                 ...                 ...   \n",
       "8533            Nur Alia              Johari                 NaN   \n",
       "8783             Nancy A              Aguoru                 NaN   \n",
       "8924          Humphrey D              Mazigo                  HD   \n",
       "9076        Nthabiseng A            Phaladze                 NaN   \n",
       "9171         Noor Azreen              Masdor                 NaN   \n",
       "\n",
       "                                 FirstAuthorAffiliation  \n",
       "37                                                  NaN  \n",
       "74    Department of Biology, King Abdul-Aziz Univers...  \n",
       "89    Department for International Development, 94 V...  \n",
       "90    Clinical Medicine, Universidade Federal do Rio...  \n",
       "113                                                 NaN  \n",
       "...                                                 ...  \n",
       "8533  Schistosomiasis Control Initiative Foundation,...  \n",
       "8783  Molecular Parasitology Laboratory, School of L...  \n",
       "8924                                                NaN  \n",
       "9076  School of Nursing, University of Botswana, Gab...  \n",
       "9171  Faculty of Medicine, Department of Public Heal...  \n",
       "\n",
       "[621 rows x 11 columns]"
      ]
     },
     "execution_count": 5,
     "metadata": {},
     "output_type": "execute_result"
    }
   ],
   "source": [
    "Data = Data.replace('',np.nan)\n",
    "nan_values = Data[Data.isna().any(axis=1)]\n",
    "nan_values"
   ]
  },
  {
   "cell_type": "code",
   "execution_count": 6,
   "metadata": {},
   "outputs": [],
   "source": [
    "import matplotlib.pyplot as plt"
   ]
  },
  {
   "cell_type": "code",
   "execution_count": 7,
   "metadata": {},
   "outputs": [
    {
     "name": "stderr",
     "output_type": "stream",
     "text": [
      "/var/folders/9c/83hjqy_n2fb76b4yp58_1tt80000gn/T/ipykernel_14516/3748817843.py:20: UserWarning: Tight layout not applied. The bottom and top margins cannot be made large enough to accommodate all axes decorations.\n",
      "  plt.tight_layout()\n",
      "/var/folders/9c/83hjqy_n2fb76b4yp58_1tt80000gn/T/ipykernel_14516/3748817843.py:29: UserWarning: Tight layout not applied. The bottom and top margins cannot be made large enough to accommodate all axes decorations.\n",
      "  plt.tight_layout()\n"
     ]
    },
    {
     "data": {
      "image/png": "[encoded data removed]",
      "text/plain": [
       "<Figure size 1000x600 with 1 Axes>"
      ]
     },
     "metadata": {},
     "output_type": "display_data"
    }
   ],
   "source": [
    "import plotly as px\n",
    "\n",
    "Journal_counts = Data['Journal'].value_counts()\n",
    "\n",
    "\n",
    "\n",
    "# Assuming you want to plot the top 10 most active journals\n",
    "top_n = 10\n",
    "top_Journals = Journal_counts.head(top_n)\n",
    "\n",
    "colors = ['skyblue', 'orange', 'green', 'red', 'purple', 'yellow', 'pink', 'brown', 'gray', 'cyan']\n",
    "\n",
    "# Plotting\n",
    "plt.figure(figsize=(10, 6))\n",
    "top_Journals.plot(kind='bar', color= 'White',width=0.05)\n",
    "#plt.title('Top 10 Most Active Journals')\n",
    "plt.xlabel('Journal')\n",
    "plt.ylabel('Number of Articles')\n",
    "plt.xticks(rotation=45, ha='right')\n",
    "plt.tight_layout()\n",
    "#plt.show()\n",
    "\n",
    "ax = top_Journals.plot(kind='bar', color= colors)\n",
    "\n",
    "# Adding count labels on top of each bar\n",
    "for i, count in enumerate(top_Journals):\n",
    "    ax.text(i, count, str(count), ha='center', va='bottom')\n",
    "\n",
    "plt.tight_layout()\n",
    "plt.show()"
   ]
  },
  {
   "cell_type": "code",
   "execution_count": 8,
   "metadata": {},
   "outputs": [
    {
     "data": {
      "image/png": "[encoded data removed]",
      "text/plain": [
       "<Figure size 1000x600 with 1 Axes>"
      ]
     },
     "metadata": {},
     "output_type": "display_data"
    }
   ],
   "source": [
    "import plotly as px\n",
    "\n",
    "Journal_counts = Data['Journal'].value_counts()\n",
    "\n",
    "# Assuming you want to plot the top 10 most active journals\n",
    "top_n = 10\n",
    "top_Journals = Journal_counts.head(top_n)\n",
    "\n",
    "# Shorten the outcome names\n",
    "max_length = 10  # Set the maximum length for the journal names\n",
    "shortened_names = [name[:max_length] + \"...\" if len(name) > max_length else name for name in top_Journals.index]\n",
    "\n",
    "colors = plt.cm.Greens(np.linspace(0.2, 0.8, len(top_Journals)))\n",
    "\n",
    "# Plotting\n",
    "plt.figure(figsize=(10, 6))\n",
    "top_Journals.plot(kind='bar', color=colors, width=0.9)\n",
    "plt.title('Top 10 Most Active Journals')\n",
    "plt.xlabel('Journal')\n",
    "plt.ylabel('Number of Articles')\n",
    "\n",
    "# Set shortened names as x-axis tick labels\n",
    "plt.xticks(range(len(shortened_names)), shortened_names, rotation=45, ha='right')\n",
    "\n",
    "# Adding count labels on top of each bar\n",
    "for i, count in enumerate(top_Journals):\n",
    "    plt.text(i, count, str(count), ha='center', va='bottom')\n",
    "\n",
    "plt.tight_layout()\n",
    "plt.show()"
   ]
  },
  {
   "cell_type": "code",
   "execution_count": 9,
   "metadata": {},
   "outputs": [
    {
     "data": {
      "image/png": "[encoded data removed]",
      "text/plain": [
       "<Figure size 1000x600 with 1 Axes>"
      ]
     },
     "metadata": {},
     "output_type": "display_data"
    }
   ],
   "source": [
    "journals_by_year = Data['Year'].value_counts().sort_index()\n",
    "top_10_years = journals_by_year.nlargest(10)\n",
    "# Plotting\n",
    "plt.figure(figsize=(10, 6))\n",
    "top_10_years.plot(kind='bar', color='#6495ED')\n",
    "plt.title('Number of Journals Published Year-Wise')\n",
    "plt.xlabel('Year')\n",
    "plt.ylabel('Number of Journals')\n",
    "plt.xticks(rotation=45, ha='right')\n",
    "\n",
    "# Add counts on top of each bar\n",
    "for i, count in enumerate(top_10_years):\n",
    "    plt.text(i, count, str(count), ha='center', va='bottom')\n",
    "plt.tight_layout()\n",
    "plt.show()"
   ]
  },
  {
   "cell_type": "code",
   "execution_count": 10,
   "metadata": {},
   "outputs": [
    {
     "data": {
      "image/png": "[encoded data removed]",
      "text/plain": [
       "<Figure size 1000x600 with 1 Axes>"
      ]
     },
     "metadata": {},
     "output_type": "display_data"
    }
   ],
   "source": [
    "journals_by_year = Data['Year'].value_counts().sort_index()\n",
    "\n",
    "# Select the top 10 years with the highest number of journals published\n",
    "top_10_years = journals_by_year.nlargest(10)\n",
    "\n",
    "# Calculate the total number of journals published\n",
    "total_journals = journals_by_year.sum()\n",
    "\n",
    "# Calculate the percentage of journals for each year\n",
    "percentages = (top_10_years / total_journals) * 100\n",
    "\n",
    "# Plotting\n",
    "plt.figure(figsize=(10, 6))\n",
    "bars = top_10_years.plot(kind='bar', color='#1a9988')\n",
    "plt.title('Top 10 Years with the Most Journals Published')\n",
    "plt.xlabel('Year')\n",
    "plt.ylabel('Number of Journals')\n",
    "plt.xticks(rotation=45, ha='right')\n",
    "\n",
    "# Annotate bars with percentages\n",
    "for i, percentage in enumerate(percentages):\n",
    "    plt.text(i, top_10_years.iloc[i], f\"{percentage:.2f}%\", ha='center', va='bottom')\n",
    "\n",
    "plt.tight_layout()\n",
    "plt.show()"
   ]
  },
  {
   "cell_type": "code",
   "execution_count": 11,
   "metadata": {},
   "outputs": [
    {
     "data": {
      "application/vnd.plotly.v1+json": {
       "config": {
        "plotlyServerURL": "https://plot.ly"
       },
       "data": [
        {
         "alignmentgroup": "True",
         "hovertemplate": "Journal=%{x}<br>y=%{y}<br>color=%{marker.color}<extra></extra>",
         "legendgroup": "",
         "marker": {
          "color": [
           2115,
           535,
           329,
           251,
           249,
           200,
           166,
           164,
           142,
           128
          ],
          "coloraxis": "coloraxis",
          "pattern": {
           "shape": ""
          }
         },
         "name": "",
         "offsetgroup": "",
         "orientation": "v",
         "showlegend": false,
         "textposition": "auto",
         "type": "bar",
         "x": [
          "Zhongguo xue xi chong bing fang zhi za zhi = Chinese journal of schistosomiasis control",
          "PLoS neglected tropical diseases",
          "Acta tropica",
          "Parasites & vectors",
          "The American journal of tropical medicine and hygiene",
          "Memorias do Instituto Oswaldo Cruz",
          "PloS one",
          "Parasitology research",
          "Zhongguo ji sheng chong xue yu ji sheng chong bing za zhi = Chinese journal of parasitology & parasitic diseases",
          "Parasitology"
         ],
         "xaxis": "x",
         "y": [
          2115,
          535,
          329,
          251,
          249,
          200,
          166,
          164,
          142,
          128
         ],
         "yaxis": "y"
        }
       ],
       "layout": {
        "bargap": 0.5,
        "barmode": "relative",
        "coloraxis": {
         "colorbar": {
          "title": {
           "text": "color"
          }
         },
         "colorscale": [
          [
           0,
           "#440154"
          ],
          [
           0.1111111111111111,
           "#482878"
          ],
          [
           0.2222222222222222,
           "#3e4989"
          ],
          [
           0.3333333333333333,
           "#31688e"
          ],
          [
           0.4444444444444444,
           "#26828e"
          ],
          [
           0.5555555555555556,
           "#1f9e89"
          ],
          [
           0.6666666666666666,
           "#35b779"
          ],
          [
           0.7777777777777778,
           "#6ece58"
          ],
          [
           0.8888888888888888,
           "#b5de2b"
          ],
          [
           1,
           "#fde725"
          ]
         ]
        },
        "legend": {
         "tracegroupgap": 0
        },
        "margin": {
         "t": 60
        },
        "template": {
         "data": {
          "bar": [
           {
            "error_x": {
             "color": "#2a3f5f"
            },
            "error_y": {
             "color": "#2a3f5f"
            },
            "marker": {
             "line": {
              "color": "#E5ECF6",
              "width": 0.5
             },
             "pattern": {
              "fillmode": "overlay",
              "size": 10,
              "solidity": 0.2
             }
            },
            "type": "bar"
           }
          ],
          "barpolar": [
           {
            "marker": {
             "line": {
              "color": "#E5ECF6",
              "width": 0.5
             },
             "pattern": {
              "fillmode": "overlay",
              "size": 10,
              "solidity": 0.2
             }
            },
            "type": "barpolar"
           }
          ],
          "carpet": [
           {
            "aaxis": {
             "endlinecolor": "#2a3f5f",
             "gridcolor": "white",
             "linecolor": "white",
             "minorgridcolor": "white",
             "startlinecolor": "#2a3f5f"
            },
            "baxis": {
             "endlinecolor": "#2a3f5f",
             "gridcolor": "white",
             "linecolor": "white",
             "minorgridcolor": "white",
             "startlinecolor": "#2a3f5f"
            },
            "type": "carpet"
           }
          ],
          "choropleth": [
           {
            "colorbar": {
             "outlinewidth": 0,
             "ticks": ""
            },
            "type": "choropleth"
           }
          ],
          "contour": [
           {
            "colorbar": {
             "outlinewidth": 0,
             "ticks": ""
            },
            "colorscale": [
             [
              0,
              "#0d0887"
             ],
             [
              0.1111111111111111,
              "#46039f"
             ],
             [
              0.2222222222222222,
              "#7201a8"
             ],
             [
              0.3333333333333333,
              "#9c179e"
             ],
             [
              0.4444444444444444,
              "#bd3786"
             ],
             [
              0.5555555555555556,
              "#d8576b"
             ],
             [
              0.6666666666666666,
              "#ed7953"
             ],
             [
              0.7777777777777778,
              "#fb9f3a"
             ],
             [
              0.8888888888888888,
              "#fdca26"
             ],
             [
              1,
              "#f0f921"
             ]
            ],
            "type": "contour"
           }
          ],
          "contourcarpet": [
           {
            "colorbar": {
             "outlinewidth": 0,
             "ticks": ""
            },
            "type": "contourcarpet"
           }
          ],
          "heatmap": [
           {
            "colorbar": {
             "outlinewidth": 0,
             "ticks": ""
            },
            "colorscale": [
             [
              0,
              "#0d0887"
             ],
             [
              0.1111111111111111,
              "#46039f"
             ],
             [
              0.2222222222222222,
              "#7201a8"
             ],
             [
              0.3333333333333333,
              "#9c179e"
             ],
             [
              0.4444444444444444,
              "#bd3786"
             ],
             [
              0.5555555555555556,
              "#d8576b"
             ],
             [
              0.6666666666666666,
              "#ed7953"
             ],
             [
              0.7777777777777778,
              "#fb9f3a"
             ],
             [
              0.8888888888888888,
              "#fdca26"
             ],
             [
              1,
              "#f0f921"
             ]
            ],
            "type": "heatmap"
           }
          ],
          "heatmapgl": [
           {
            "colorbar": {
             "outlinewidth": 0,
             "ticks": ""
            },
            "colorscale": [
             [
              0,
              "#0d0887"
             ],
             [
              0.1111111111111111,
              "#46039f"
             ],
             [
              0.2222222222222222,
              "#7201a8"
             ],
             [
              0.3333333333333333,
              "#9c179e"
             ],
             [
              0.4444444444444444,
              "#bd3786"
             ],
             [
              0.5555555555555556,
              "#d8576b"
             ],
             [
              0.6666666666666666,
              "#ed7953"
             ],
             [
              0.7777777777777778,
              "#fb9f3a"
             ],
             [
              0.8888888888888888,
              "#fdca26"
             ],
             [
              1,
              "#f0f921"
             ]
            ],
            "type": "heatmapgl"
           }
          ],
          "histogram": [
           {
            "marker": {
             "pattern": {
              "fillmode": "overlay",
              "size": 10,
              "solidity": 0.2
             }
            },
            "type": "histogram"
           }
          ],
          "histogram2d": [
           {
            "colorbar": {
             "outlinewidth": 0,
             "ticks": ""
            },
            "colorscale": [
             [
              0,
              "#0d0887"
             ],
             [
              0.1111111111111111,
              "#46039f"
             ],
             [
              0.2222222222222222,
              "#7201a8"
             ],
             [
              0.3333333333333333,
              "#9c179e"
             ],
             [
              0.4444444444444444,
              "#bd3786"
             ],
             [
              0.5555555555555556,
              "#d8576b"
             ],
             [
              0.6666666666666666,
              "#ed7953"
             ],
             [
              0.7777777777777778,
              "#fb9f3a"
             ],
             [
              0.8888888888888888,
              "#fdca26"
             ],
             [
              1,
              "#f0f921"
             ]
            ],
            "type": "histogram2d"
           }
          ],
          "histogram2dcontour": [
           {
            "colorbar": {
             "outlinewidth": 0,
             "ticks": ""
            },
            "colorscale": [
             [
              0,
              "#0d0887"
             ],
             [
              0.1111111111111111,
              "#46039f"
             ],
             [
              0.2222222222222222,
              "#7201a8"
             ],
             [
              0.3333333333333333,
              "#9c179e"
             ],
             [
              0.4444444444444444,
              "#bd3786"
             ],
             [
              0.5555555555555556,
              "#d8576b"
             ],
             [
              0.6666666666666666,
              "#ed7953"
             ],
             [
              0.7777777777777778,
              "#fb9f3a"
             ],
             [
              0.8888888888888888,
              "#fdca26"
             ],
             [
              1,
              "#f0f921"
             ]
            ],
            "type": "histogram2dcontour"
           }
          ],
          "mesh3d": [
           {
            "colorbar": {
             "outlinewidth": 0,
             "ticks": ""
            },
            "type": "mesh3d"
           }
          ],
          "parcoords": [
           {
            "line": {
             "colorbar": {
              "outlinewidth": 0,
              "ticks": ""
             }
            },
            "type": "parcoords"
           }
          ],
          "pie": [
           {
            "automargin": true,
            "type": "pie"
           }
          ],
          "scatter": [
           {
            "fillpattern": {
             "fillmode": "overlay",
             "size": 10,
             "solidity": 0.2
            },
            "type": "scatter"
           }
          ],
          "scatter3d": [
           {
            "line": {
             "colorbar": {
              "outlinewidth": 0,
              "ticks": ""
             }
            },
            "marker": {
             "colorbar": {
              "outlinewidth": 0,
              "ticks": ""
             }
            },
            "type": "scatter3d"
           }
          ],
          "scattercarpet": [
           {
            "marker": {
             "colorbar": {
              "outlinewidth": 0,
              "ticks": ""
             }
            },
            "type": "scattercarpet"
           }
          ],
          "scattergeo": [
           {
            "marker": {
             "colorbar": {
              "outlinewidth": 0,
              "ticks": ""
             }
            },
            "type": "scattergeo"
           }
          ],
          "scattergl": [
           {
            "marker": {
             "colorbar": {
              "outlinewidth": 0,
              "ticks": ""
             }
            },
            "type": "scattergl"
           }
          ],
          "scattermapbox": [
           {
            "marker": {
             "colorbar": {
              "outlinewidth": 0,
              "ticks": ""
             }
            },
            "type": "scattermapbox"
           }
          ],
          "scatterpolar": [
           {
            "marker": {
             "colorbar": {
              "outlinewidth": 0,
              "ticks": ""
             }
            },
            "type": "scatterpolar"
           }
          ],
          "scatterpolargl": [
           {
            "marker": {
             "colorbar": {
              "outlinewidth": 0,
              "ticks": ""
             }
            },
            "type": "scatterpolargl"
           }
          ],
          "scatterternary": [
           {
            "marker": {
             "colorbar": {
              "outlinewidth": 0,
              "ticks": ""
             }
            },
            "type": "scatterternary"
           }
          ],
          "surface": [
           {
            "colorbar": {
             "outlinewidth": 0,
             "ticks": ""
            },
            "colorscale": [
             [
              0,
              "#0d0887"
             ],
             [
              0.1111111111111111,
              "#46039f"
             ],
             [
              0.2222222222222222,
              "#7201a8"
             ],
             [
              0.3333333333333333,
              "#9c179e"
             ],
             [
              0.4444444444444444,
              "#bd3786"
             ],
             [
              0.5555555555555556,
              "#d8576b"
             ],
             [
              0.6666666666666666,
              "#ed7953"
             ],
             [
              0.7777777777777778,
              "#fb9f3a"
             ],
             [
              0.8888888888888888,
              "#fdca26"
             ],
             [
              1,
              "#f0f921"
             ]
            ],
            "type": "surface"
           }
          ],
          "table": [
           {
            "cells": {
             "fill": {
              "color": "#EBF0F8"
             },
             "line": {
              "color": "white"
             }
            },
            "header": {
             "fill": {
              "color": "#C8D4E3"
             },
             "line": {
              "color": "white"
             }
            },
            "type": "table"
           }
          ]
         },
         "layout": {
          "annotationdefaults": {
           "arrowcolor": "#2a3f5f",
           "arrowhead": 0,
           "arrowwidth": 1
          },
          "autotypenumbers": "strict",
          "coloraxis": {
           "colorbar": {
            "outlinewidth": 0,
            "ticks": ""
           }
          },
          "colorscale": {
           "diverging": [
            [
             0,
             "#8e0152"
            ],
            [
             0.1,
             "#c51b7d"
            ],
            [
             0.2,
             "#de77ae"
            ],
            [
             0.3,
             "#f1b6da"
            ],
            [
             0.4,
             "#fde0ef"
            ],
            [
             0.5,
             "#f7f7f7"
            ],
            [
             0.6,
             "#e6f5d0"
            ],
            [
             0.7,
             "#b8e186"
            ],
            [
             0.8,
             "#7fbc41"
            ],
            [
             0.9,
             "#4d9221"
            ],
            [
             1,
             "#276419"
            ]
           ],
           "sequential": [
            [
             0,
             "#0d0887"
            ],
            [
             0.1111111111111111,
             "#46039f"
            ],
            [
             0.2222222222222222,
             "#7201a8"
            ],
            [
             0.3333333333333333,
             "#9c179e"
            ],
            [
             0.4444444444444444,
             "#bd3786"
            ],
            [
             0.5555555555555556,
             "#d8576b"
            ],
            [
             0.6666666666666666,
             "#ed7953"
            ],
            [
             0.7777777777777778,
             "#fb9f3a"
            ],
            [
             0.8888888888888888,
             "#fdca26"
            ],
            [
             1,
             "#f0f921"
            ]
           ],
           "sequentialminus": [
            [
             0,
             "#0d0887"
            ],
            [
             0.1111111111111111,
             "#46039f"
            ],
            [
             0.2222222222222222,
             "#7201a8"
            ],
            [
             0.3333333333333333,
             "#9c179e"
            ],
            [
             0.4444444444444444,
             "#bd3786"
            ],
            [
             0.5555555555555556,
             "#d8576b"
            ],
            [
             0.6666666666666666,
             "#ed7953"
            ],
            [
             0.7777777777777778,
             "#fb9f3a"
            ],
            [
             0.8888888888888888,
             "#fdca26"
            ],
            [
             1,
             "#f0f921"
            ]
           ]
          },
          "colorway": [
           "#636efa",
           "#EF553B",
           "#00cc96",
           "#ab63fa",
           "#FFA15A",
           "#19d3f3",
           "#FF6692",
           "#B6E880",
           "#FF97FF",
           "#FECB52"
          ],
          "font": {
           "color": "#2a3f5f"
          },
          "geo": {
           "bgcolor": "white",
           "lakecolor": "white",
           "landcolor": "#E5ECF6",
           "showlakes": true,
           "showland": true,
           "subunitcolor": "white"
          },
          "hoverlabel": {
           "align": "left"
          },
          "hovermode": "closest",
          "mapbox": {
           "style": "light"
          },
          "paper_bgcolor": "white",
          "plot_bgcolor": "#E5ECF6",
          "polar": {
           "angularaxis": {
            "gridcolor": "white",
            "linecolor": "white",
            "ticks": ""
           },
           "bgcolor": "#E5ECF6",
           "radialaxis": {
            "gridcolor": "white",
            "linecolor": "white",
            "ticks": ""
           }
          },
          "scene": {
           "xaxis": {
            "backgroundcolor": "#E5ECF6",
            "gridcolor": "white",
            "gridwidth": 2,
            "linecolor": "white",
            "showbackground": true,
            "ticks": "",
            "zerolinecolor": "white"
           },
           "yaxis": {
            "backgroundcolor": "#E5ECF6",
            "gridcolor": "white",
            "gridwidth": 2,
            "linecolor": "white",
            "showbackground": true,
            "ticks": "",
            "zerolinecolor": "white"
           },
           "zaxis": {
            "backgroundcolor": "#E5ECF6",
            "gridcolor": "white",
            "gridwidth": 2,
            "linecolor": "white",
            "showbackground": true,
            "ticks": "",
            "zerolinecolor": "white"
           }
          },
          "shapedefaults": {
           "line": {
            "color": "#2a3f5f"
           }
          },
          "ternary": {
           "aaxis": {
            "gridcolor": "white",
            "linecolor": "white",
            "ticks": ""
           },
           "baxis": {
            "gridcolor": "white",
            "linecolor": "white",
            "ticks": ""
           },
           "bgcolor": "#E5ECF6",
           "caxis": {
            "gridcolor": "white",
            "linecolor": "white",
            "ticks": ""
           }
          },
          "title": {
           "x": 0.05
          },
          "xaxis": {
           "automargin": true,
           "gridcolor": "white",
           "linecolor": "white",
           "ticks": "",
           "title": {
            "standoff": 15
           },
           "zerolinecolor": "white",
           "zerolinewidth": 2
          },
          "yaxis": {
           "automargin": true,
           "gridcolor": "white",
           "linecolor": "white",
           "ticks": "",
           "title": {
            "standoff": 15
           },
           "zerolinecolor": "white",
           "zerolinewidth": 2
          }
         }
        },
        "title": {
         "text": "Top 10 Most Active Journals"
        },
        "xaxis": {
         "anchor": "y",
         "domain": [
          0,
          1
         ],
         "tickangle": -45,
         "title": {
          "text": "Journal"
         }
        },
        "yaxis": {
         "anchor": "x",
         "domain": [
          0,
          1
         ],
         "title": {
          "text": "Number of Articles"
         }
        }
       }
      }
     },
     "metadata": {},
     "output_type": "display_data"
    }
   ],
   "source": [
    "import plotly.express as px\n",
    "\n",
    "Journal_counts = Data['Journal'].value_counts()\n",
    "\n",
    "# Assuming you want to plot the top 10 most active journals\n",
    "top_n = 10\n",
    "top_Journals = Journal_counts.head(top_n)\n",
    "\n",
    "# Create a Plotly bar chart\n",
    "fig = px.bar(top_Journals, x=top_Journals.index, y=top_Journals.values, color=top_Journals.values,\n",
    "             color_continuous_scale=px.colors.sequential.Viridis)\n",
    "\n",
    "# Update layout to adjust the gap between bars\n",
    "fig.update_layout(bargap=0.5)  # Adjust the bargap as needed (0 means no gap)\n",
    "\n",
    "fig.update_layout(title='Top 10 Most Active Journals',\n",
    "                  xaxis_title='Journal',\n",
    "                  yaxis_title='Number of Articles',\n",
    "                  xaxis_tickangle=-45)  # Rotate x-axis labels for better readability\n",
    "\n",
    "fig.show()"
   ]
  },
  {
   "cell_type": "code",
   "execution_count": 12,
   "metadata": {},
   "outputs": [
    {
     "data": {
      "image/png": "[encoded data removed]",
      "text/plain": [
       "<Figure size 800x800 with 1 Axes>"
      ]
     },
     "metadata": {},
     "output_type": "display_data"
    }
   ],
   "source": [
    "journals_by_year = Data['Year'].value_counts().sort_index()\n",
    "\n",
    "# Select the top 10 years with the highest number of journals published\n",
    "top_10_years = journals_by_year.nlargest(10)\n",
    "\n",
    "# Calculate the total number of journals published\n",
    "total_journals = top_10_years.sum()\n",
    "\n",
    "# Calculate the percentage of journals for each year\n",
    "percentages = (top_10_years / total_journals) * 100\n",
    "\n",
    "# Plotting a pie chart\n",
    "plt.figure(figsize=(8, 8))\n",
    "plt.pie(percentages, labels=top_10_years.index, autopct='%1.1f%%', startangle=140)\n",
    "plt.title('Distribution of Journals by Year (Top 10)')\n",
    "plt.axis('equal')  # Equal aspect ratio ensures that pie is drawn as a circle.\n",
    "plt.tight_layout()\n",
    "plt.show()"
   ]
  },
  {
   "cell_type": "code",
   "execution_count": 13,
   "metadata": {},
   "outputs": [],
   "source": [
    "#! pip install pyvis"
   ]
  },
  {
   "cell_type": "markdown",
   "metadata": {},
   "source": [
    "Yathin Burugamakaalli shivanna"
   ]
  },
  {
   "cell_type": "code",
   "execution_count": 14,
   "metadata": {},
   "outputs": [],
   "source": [
    "import pandas as pd\n",
    "import matplotlib.pyplot as plt\n",
    "import plotly.express as px\n",
    "import IPython.display as ipd\n"
   ]
  },
  {
   "cell_type": "code",
   "execution_count": 15,
   "metadata": {},
   "outputs": [
    {
     "ename": "FileNotFoundError",
     "evalue": "[Errno 2] No such file or directory: 'C:\\\\Users\\\\YATHIN REDDY\\\\Desktop\\\\Skill Assesment 2\\\\Skill_Assesment\\\\paper_counts.csv'",
     "output_type": "error",
     "traceback": [
      "\u001b[0;31m---------------------------------------------------------------------------\u001b[0m",
      "\u001b[0;31mFileNotFoundError\u001b[0m                         Traceback (most recent call last)",
      "Cell \u001b[0;32mIn[15], line 1\u001b[0m\n\u001b[0;32m----> 1\u001b[0m papercount_Data \u001b[38;5;241m=\u001b[39m \u001b[43mpd\u001b[49m\u001b[38;5;241;43m.\u001b[39;49m\u001b[43mread_csv\u001b[49m\u001b[43m(\u001b[49m\u001b[38;5;124;43mr\u001b[39;49m\u001b[38;5;124;43m\"\u001b[39;49m\u001b[38;5;124;43mC:\u001b[39;49m\u001b[38;5;124;43m\\\u001b[39;49m\u001b[38;5;124;43mUsers\u001b[39;49m\u001b[38;5;124;43m\\\u001b[39;49m\u001b[38;5;124;43mYATHIN REDDY\u001b[39;49m\u001b[38;5;124;43m\\\u001b[39;49m\u001b[38;5;124;43mDesktop\u001b[39;49m\u001b[38;5;124;43m\\\u001b[39;49m\u001b[38;5;124;43mSkill Assesment 2\u001b[39;49m\u001b[38;5;124;43m\\\u001b[39;49m\u001b[38;5;124;43mSkill_Assesment\u001b[39;49m\u001b[38;5;124;43m\\\u001b[39;49m\u001b[38;5;124;43mpaper_counts.csv\u001b[39;49m\u001b[38;5;124;43m\"\u001b[39;49m\u001b[43m)\u001b[49m\n\u001b[1;32m      2\u001b[0m Authors_Data  \u001b[38;5;241m=\u001b[39m pd\u001b[38;5;241m.\u001b[39mread_csv(\u001b[38;5;124mr\u001b[39m\u001b[38;5;124m\"\u001b[39m\u001b[38;5;124mC:\u001b[39m\u001b[38;5;124m\\\u001b[39m\u001b[38;5;124mUsers\u001b[39m\u001b[38;5;124m\\\u001b[39m\u001b[38;5;124mYATHIN REDDY\u001b[39m\u001b[38;5;124m\\\u001b[39m\u001b[38;5;124mDesktop\u001b[39m\u001b[38;5;124m\\\u001b[39m\u001b[38;5;124mSkill Assesment 2\u001b[39m\u001b[38;5;124m\\\u001b[39m\u001b[38;5;124mSkill_Assesment\u001b[39m\u001b[38;5;124m\\\u001b[39m\u001b[38;5;124mauthors.schistosomiasis.csv\u001b[39m\u001b[38;5;124m\"\u001b[39m)\n\u001b[1;32m      3\u001b[0m Articles_Data \u001b[38;5;241m=\u001b[39m  pd\u001b[38;5;241m.\u001b[39mread_csv(\u001b[38;5;124mr\u001b[39m\u001b[38;5;124m\"\u001b[39m\u001b[38;5;124mC:\u001b[39m\u001b[38;5;124m\\\u001b[39m\u001b[38;5;124mUsers\u001b[39m\u001b[38;5;124m\\\u001b[39m\u001b[38;5;124mYATHIN REDDY\u001b[39m\u001b[38;5;124m\\\u001b[39m\u001b[38;5;124mDesktop\u001b[39m\u001b[38;5;124m\\\u001b[39m\u001b[38;5;124mSkill Assesment 2\u001b[39m\u001b[38;5;124m\\\u001b[39m\u001b[38;5;124mSkill_Assesment\u001b[39m\u001b[38;5;124m\\\u001b[39m\u001b[38;5;124marticles.schistosomiasis.csv\u001b[39m\u001b[38;5;124m\"\u001b[39m)\n",
      "File \u001b[0;32m/Library/Frameworks/Python.framework/Versions/3.12/lib/python3.12/site-packages/pandas/io/parsers/readers.py:948\u001b[0m, in \u001b[0;36mread_csv\u001b[0;34m(filepath_or_buffer, sep, delimiter, header, names, index_col, usecols, dtype, engine, converters, true_values, false_values, skipinitialspace, skiprows, skipfooter, nrows, na_values, keep_default_na, na_filter, verbose, skip_blank_lines, parse_dates, infer_datetime_format, keep_date_col, date_parser, date_format, dayfirst, cache_dates, iterator, chunksize, compression, thousands, decimal, lineterminator, quotechar, quoting, doublequote, escapechar, comment, encoding, encoding_errors, dialect, on_bad_lines, delim_whitespace, low_memory, memory_map, float_precision, storage_options, dtype_backend)\u001b[0m\n\u001b[1;32m    935\u001b[0m kwds_defaults \u001b[38;5;241m=\u001b[39m _refine_defaults_read(\n\u001b[1;32m    936\u001b[0m     dialect,\n\u001b[1;32m    937\u001b[0m     delimiter,\n\u001b[0;32m   (...)\u001b[0m\n\u001b[1;32m    944\u001b[0m     dtype_backend\u001b[38;5;241m=\u001b[39mdtype_backend,\n\u001b[1;32m    945\u001b[0m )\n\u001b[1;32m    946\u001b[0m kwds\u001b[38;5;241m.\u001b[39mupdate(kwds_defaults)\n\u001b[0;32m--> 948\u001b[0m \u001b[38;5;28;01mreturn\u001b[39;00m \u001b[43m_read\u001b[49m\u001b[43m(\u001b[49m\u001b[43mfilepath_or_buffer\u001b[49m\u001b[43m,\u001b[49m\u001b[43m \u001b[49m\u001b[43mkwds\u001b[49m\u001b[43m)\u001b[49m\n",
      "File \u001b[0;32m/Library/Frameworks/Python.framework/Versions/3.12/lib/python3.12/site-packages/pandas/io/parsers/readers.py:611\u001b[0m, in \u001b[0;36m_read\u001b[0;34m(filepath_or_buffer, kwds)\u001b[0m\n\u001b[1;32m    608\u001b[0m _validate_names(kwds\u001b[38;5;241m.\u001b[39mget(\u001b[38;5;124m\"\u001b[39m\u001b[38;5;124mnames\u001b[39m\u001b[38;5;124m\"\u001b[39m, \u001b[38;5;28;01mNone\u001b[39;00m))\n\u001b[1;32m    610\u001b[0m \u001b[38;5;66;03m# Create the parser.\u001b[39;00m\n\u001b[0;32m--> 611\u001b[0m parser \u001b[38;5;241m=\u001b[39m \u001b[43mTextFileReader\u001b[49m\u001b[43m(\u001b[49m\u001b[43mfilepath_or_buffer\u001b[49m\u001b[43m,\u001b[49m\u001b[43m \u001b[49m\u001b[38;5;241;43m*\u001b[39;49m\u001b[38;5;241;43m*\u001b[39;49m\u001b[43mkwds\u001b[49m\u001b[43m)\u001b[49m\n\u001b[1;32m    613\u001b[0m \u001b[38;5;28;01mif\u001b[39;00m chunksize \u001b[38;5;129;01mor\u001b[39;00m iterator:\n\u001b[1;32m    614\u001b[0m     \u001b[38;5;28;01mreturn\u001b[39;00m parser\n",
      "File \u001b[0;32m/Library/Frameworks/Python.framework/Versions/3.12/lib/python3.12/site-packages/pandas/io/parsers/readers.py:1448\u001b[0m, in \u001b[0;36mTextFileReader.__init__\u001b[0;34m(self, f, engine, **kwds)\u001b[0m\n\u001b[1;32m   1445\u001b[0m     \u001b[38;5;28mself\u001b[39m\u001b[38;5;241m.\u001b[39moptions[\u001b[38;5;124m\"\u001b[39m\u001b[38;5;124mhas_index_names\u001b[39m\u001b[38;5;124m\"\u001b[39m] \u001b[38;5;241m=\u001b[39m kwds[\u001b[38;5;124m\"\u001b[39m\u001b[38;5;124mhas_index_names\u001b[39m\u001b[38;5;124m\"\u001b[39m]\n\u001b[1;32m   1447\u001b[0m \u001b[38;5;28mself\u001b[39m\u001b[38;5;241m.\u001b[39mhandles: IOHandles \u001b[38;5;241m|\u001b[39m \u001b[38;5;28;01mNone\u001b[39;00m \u001b[38;5;241m=\u001b[39m \u001b[38;5;28;01mNone\u001b[39;00m\n\u001b[0;32m-> 1448\u001b[0m \u001b[38;5;28mself\u001b[39m\u001b[38;5;241m.\u001b[39m_engine \u001b[38;5;241m=\u001b[39m \u001b[38;5;28;43mself\u001b[39;49m\u001b[38;5;241;43m.\u001b[39;49m\u001b[43m_make_engine\u001b[49m\u001b[43m(\u001b[49m\u001b[43mf\u001b[49m\u001b[43m,\u001b[49m\u001b[43m \u001b[49m\u001b[38;5;28;43mself\u001b[39;49m\u001b[38;5;241;43m.\u001b[39;49m\u001b[43mengine\u001b[49m\u001b[43m)\u001b[49m\n",
      "File \u001b[0;32m/Library/Frameworks/Python.framework/Versions/3.12/lib/python3.12/site-packages/pandas/io/parsers/readers.py:1705\u001b[0m, in \u001b[0;36mTextFileReader._make_engine\u001b[0;34m(self, f, engine)\u001b[0m\n\u001b[1;32m   1703\u001b[0m     \u001b[38;5;28;01mif\u001b[39;00m \u001b[38;5;124m\"\u001b[39m\u001b[38;5;124mb\u001b[39m\u001b[38;5;124m\"\u001b[39m \u001b[38;5;129;01mnot\u001b[39;00m \u001b[38;5;129;01min\u001b[39;00m mode:\n\u001b[1;32m   1704\u001b[0m         mode \u001b[38;5;241m+\u001b[39m\u001b[38;5;241m=\u001b[39m \u001b[38;5;124m\"\u001b[39m\u001b[38;5;124mb\u001b[39m\u001b[38;5;124m\"\u001b[39m\n\u001b[0;32m-> 1705\u001b[0m \u001b[38;5;28mself\u001b[39m\u001b[38;5;241m.\u001b[39mhandles \u001b[38;5;241m=\u001b[39m \u001b[43mget_handle\u001b[49m\u001b[43m(\u001b[49m\n\u001b[1;32m   1706\u001b[0m \u001b[43m    \u001b[49m\u001b[43mf\u001b[49m\u001b[43m,\u001b[49m\n\u001b[1;32m   1707\u001b[0m \u001b[43m    \u001b[49m\u001b[43mmode\u001b[49m\u001b[43m,\u001b[49m\n\u001b[1;32m   1708\u001b[0m \u001b[43m    \u001b[49m\u001b[43mencoding\u001b[49m\u001b[38;5;241;43m=\u001b[39;49m\u001b[38;5;28;43mself\u001b[39;49m\u001b[38;5;241;43m.\u001b[39;49m\u001b[43moptions\u001b[49m\u001b[38;5;241;43m.\u001b[39;49m\u001b[43mget\u001b[49m\u001b[43m(\u001b[49m\u001b[38;5;124;43m\"\u001b[39;49m\u001b[38;5;124;43mencoding\u001b[39;49m\u001b[38;5;124;43m\"\u001b[39;49m\u001b[43m,\u001b[49m\u001b[43m \u001b[49m\u001b[38;5;28;43;01mNone\u001b[39;49;00m\u001b[43m)\u001b[49m\u001b[43m,\u001b[49m\n\u001b[1;32m   1709\u001b[0m \u001b[43m    \u001b[49m\u001b[43mcompression\u001b[49m\u001b[38;5;241;43m=\u001b[39;49m\u001b[38;5;28;43mself\u001b[39;49m\u001b[38;5;241;43m.\u001b[39;49m\u001b[43moptions\u001b[49m\u001b[38;5;241;43m.\u001b[39;49m\u001b[43mget\u001b[49m\u001b[43m(\u001b[49m\u001b[38;5;124;43m\"\u001b[39;49m\u001b[38;5;124;43mcompression\u001b[39;49m\u001b[38;5;124;43m\"\u001b[39;49m\u001b[43m,\u001b[49m\u001b[43m \u001b[49m\u001b[38;5;28;43;01mNone\u001b[39;49;00m\u001b[43m)\u001b[49m\u001b[43m,\u001b[49m\n\u001b[1;32m   1710\u001b[0m \u001b[43m    \u001b[49m\u001b[43mmemory_map\u001b[49m\u001b[38;5;241;43m=\u001b[39;49m\u001b[38;5;28;43mself\u001b[39;49m\u001b[38;5;241;43m.\u001b[39;49m\u001b[43moptions\u001b[49m\u001b[38;5;241;43m.\u001b[39;49m\u001b[43mget\u001b[49m\u001b[43m(\u001b[49m\u001b[38;5;124;43m\"\u001b[39;49m\u001b[38;5;124;43mmemory_map\u001b[39;49m\u001b[38;5;124;43m\"\u001b[39;49m\u001b[43m,\u001b[49m\u001b[43m \u001b[49m\u001b[38;5;28;43;01mFalse\u001b[39;49;00m\u001b[43m)\u001b[49m\u001b[43m,\u001b[49m\n\u001b[1;32m   1711\u001b[0m \u001b[43m    \u001b[49m\u001b[43mis_text\u001b[49m\u001b[38;5;241;43m=\u001b[39;49m\u001b[43mis_text\u001b[49m\u001b[43m,\u001b[49m\n\u001b[1;32m   1712\u001b[0m \u001b[43m    \u001b[49m\u001b[43merrors\u001b[49m\u001b[38;5;241;43m=\u001b[39;49m\u001b[38;5;28;43mself\u001b[39;49m\u001b[38;5;241;43m.\u001b[39;49m\u001b[43moptions\u001b[49m\u001b[38;5;241;43m.\u001b[39;49m\u001b[43mget\u001b[49m\u001b[43m(\u001b[49m\u001b[38;5;124;43m\"\u001b[39;49m\u001b[38;5;124;43mencoding_errors\u001b[39;49m\u001b[38;5;124;43m\"\u001b[39;49m\u001b[43m,\u001b[49m\u001b[43m \u001b[49m\u001b[38;5;124;43m\"\u001b[39;49m\u001b[38;5;124;43mstrict\u001b[39;49m\u001b[38;5;124;43m\"\u001b[39;49m\u001b[43m)\u001b[49m\u001b[43m,\u001b[49m\n\u001b[1;32m   1713\u001b[0m \u001b[43m    \u001b[49m\u001b[43mstorage_options\u001b[49m\u001b[38;5;241;43m=\u001b[39;49m\u001b[38;5;28;43mself\u001b[39;49m\u001b[38;5;241;43m.\u001b[39;49m\u001b[43moptions\u001b[49m\u001b[38;5;241;43m.\u001b[39;49m\u001b[43mget\u001b[49m\u001b[43m(\u001b[49m\u001b[38;5;124;43m\"\u001b[39;49m\u001b[38;5;124;43mstorage_options\u001b[39;49m\u001b[38;5;124;43m\"\u001b[39;49m\u001b[43m,\u001b[49m\u001b[43m \u001b[49m\u001b[38;5;28;43;01mNone\u001b[39;49;00m\u001b[43m)\u001b[49m\u001b[43m,\u001b[49m\n\u001b[1;32m   1714\u001b[0m \u001b[43m\u001b[49m\u001b[43m)\u001b[49m\n\u001b[1;32m   1715\u001b[0m \u001b[38;5;28;01massert\u001b[39;00m \u001b[38;5;28mself\u001b[39m\u001b[38;5;241m.\u001b[39mhandles \u001b[38;5;129;01mis\u001b[39;00m \u001b[38;5;129;01mnot\u001b[39;00m \u001b[38;5;28;01mNone\u001b[39;00m\n\u001b[1;32m   1716\u001b[0m f \u001b[38;5;241m=\u001b[39m \u001b[38;5;28mself\u001b[39m\u001b[38;5;241m.\u001b[39mhandles\u001b[38;5;241m.\u001b[39mhandle\n",
      "File \u001b[0;32m/Library/Frameworks/Python.framework/Versions/3.12/lib/python3.12/site-packages/pandas/io/common.py:863\u001b[0m, in \u001b[0;36mget_handle\u001b[0;34m(path_or_buf, mode, encoding, compression, memory_map, is_text, errors, storage_options)\u001b[0m\n\u001b[1;32m    858\u001b[0m \u001b[38;5;28;01melif\u001b[39;00m \u001b[38;5;28misinstance\u001b[39m(handle, \u001b[38;5;28mstr\u001b[39m):\n\u001b[1;32m    859\u001b[0m     \u001b[38;5;66;03m# Check whether the filename is to be opened in binary mode.\u001b[39;00m\n\u001b[1;32m    860\u001b[0m     \u001b[38;5;66;03m# Binary mode does not support 'encoding' and 'newline'.\u001b[39;00m\n\u001b[1;32m    861\u001b[0m     \u001b[38;5;28;01mif\u001b[39;00m ioargs\u001b[38;5;241m.\u001b[39mencoding \u001b[38;5;129;01mand\u001b[39;00m \u001b[38;5;124m\"\u001b[39m\u001b[38;5;124mb\u001b[39m\u001b[38;5;124m\"\u001b[39m \u001b[38;5;129;01mnot\u001b[39;00m \u001b[38;5;129;01min\u001b[39;00m ioargs\u001b[38;5;241m.\u001b[39mmode:\n\u001b[1;32m    862\u001b[0m         \u001b[38;5;66;03m# Encoding\u001b[39;00m\n\u001b[0;32m--> 863\u001b[0m         handle \u001b[38;5;241m=\u001b[39m \u001b[38;5;28;43mopen\u001b[39;49m\u001b[43m(\u001b[49m\n\u001b[1;32m    864\u001b[0m \u001b[43m            \u001b[49m\u001b[43mhandle\u001b[49m\u001b[43m,\u001b[49m\n\u001b[1;32m    865\u001b[0m \u001b[43m            \u001b[49m\u001b[43mioargs\u001b[49m\u001b[38;5;241;43m.\u001b[39;49m\u001b[43mmode\u001b[49m\u001b[43m,\u001b[49m\n\u001b[1;32m    866\u001b[0m \u001b[43m            \u001b[49m\u001b[43mencoding\u001b[49m\u001b[38;5;241;43m=\u001b[39;49m\u001b[43mioargs\u001b[49m\u001b[38;5;241;43m.\u001b[39;49m\u001b[43mencoding\u001b[49m\u001b[43m,\u001b[49m\n\u001b[1;32m    867\u001b[0m \u001b[43m            \u001b[49m\u001b[43merrors\u001b[49m\u001b[38;5;241;43m=\u001b[39;49m\u001b[43merrors\u001b[49m\u001b[43m,\u001b[49m\n\u001b[1;32m    868\u001b[0m \u001b[43m            \u001b[49m\u001b[43mnewline\u001b[49m\u001b[38;5;241;43m=\u001b[39;49m\u001b[38;5;124;43m\"\u001b[39;49m\u001b[38;5;124;43m\"\u001b[39;49m\u001b[43m,\u001b[49m\n\u001b[1;32m    869\u001b[0m \u001b[43m        \u001b[49m\u001b[43m)\u001b[49m\n\u001b[1;32m    870\u001b[0m     \u001b[38;5;28;01melse\u001b[39;00m:\n\u001b[1;32m    871\u001b[0m         \u001b[38;5;66;03m# Binary mode\u001b[39;00m\n\u001b[1;32m    872\u001b[0m         handle \u001b[38;5;241m=\u001b[39m \u001b[38;5;28mopen\u001b[39m(handle, ioargs\u001b[38;5;241m.\u001b[39mmode)\n",
      "\u001b[0;31mFileNotFoundError\u001b[0m: [Errno 2] No such file or directory: 'C:\\\\Users\\\\YATHIN REDDY\\\\Desktop\\\\Skill Assesment 2\\\\Skill_Assesment\\\\paper_counts.csv'"
     ]
    }
   ],
   "source": [
    "papercount_Data = pd.read_csv(r\"C:\\Users\\YATHIN REDDY\\Desktop\\Skill Assesment 2\\Skill_Assesment\\paper_counts.csv\")\n",
    "Authors_Data  = pd.read_csv(r\"C:\\Users\\YATHIN REDDY\\Desktop\\Skill Assesment 2\\Skill_Assesment\\authors.schistosomiasis.csv\")\n",
    "Articles_Data =  pd.read_csv(r\"C:\\Users\\YATHIN REDDY\\Desktop\\Skill Assesment 2\\Skill_Assesment\\articles.schistosomiasis.csv\")"
   ]
  },
  {
   "cell_type": "code",
   "execution_count": null,
   "metadata": {},
   "outputs": [],
   "source": [
    "Authors_Data['AuthorAffiliation'] = Authors_Data['AuthorAffiliation'].ffill()\n",
    "\n",
    "ipd.display(Authors_Data)\n",
    "\n",
    "\n"
   ]
  },
  {
   "cell_type": "code",
   "execution_count": null,
   "metadata": {},
   "outputs": [],
   "source": [
    "\n",
    "\n",
    "\n"
   ]
  },
  {
   "cell_type": "code",
   "execution_count": null,
   "metadata": {},
   "outputs": [],
   "source": []
  },
  {
   "cell_type": "code",
   "execution_count": null,
   "metadata": {},
   "outputs": [],
   "source": []
  },
  {
   "cell_type": "code",
   "execution_count": null,
   "metadata": {},
   "outputs": [],
   "source": []
  },
  {
   "cell_type": "code",
   "execution_count": null,
   "metadata": {},
   "outputs": [],
   "source": []
  },
  {
   "cell_type": "code",
   "execution_count": null,
   "metadata": {},
   "outputs": [],
   "source": []
  },
  {
   "cell_type": "code",
   "execution_count": null,
   "metadata": {},
   "outputs": [],
   "source": []
  },
  {
   "cell_type": "code",
   "execution_count": null,
   "metadata": {},
   "outputs": [],
   "source": []
  },
  {
   "cell_type": "code",
   "execution_count": null,
   "metadata": {},
   "outputs": [],
   "source": []
  },
  {
   "cell_type": "code",
   "execution_count": null,
   "metadata": {},
   "outputs": [],
   "source": []
  },
  {
   "cell_type": "code",
   "execution_count": null,
   "metadata": {},
   "outputs": [],
   "source": []
  }
 ],
 "metadata": {
  "kernelspec": {
   "display_name": "base",
   "language": "python",
   "name": "python3"
  },
  "language_info": {
   "codemirror_mode": {
    "name": "ipython",
    "version": 3
   },
   "file_extension": ".py",
   "mimetype": "text/x-python",
   "name": "python",
   "nbconvert_exporter": "python",
   "pygments_lexer": "ipython3",
   "version": "3.12.1"
  }
 },
 "nbformat": 4,
 "nbformat_minor": 2
}
